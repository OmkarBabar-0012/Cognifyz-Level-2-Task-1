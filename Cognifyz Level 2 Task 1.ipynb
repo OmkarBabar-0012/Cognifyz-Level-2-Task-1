{
 "cells": [
  {
   "cell_type": "markdown",
   "id": "da23622e",
   "metadata": {},
   "source": [
    "# Task - Table Booking and Online Delivery"
   ]
  },
  {
   "cell_type": "code",
   "execution_count": 1,
   "id": "c693b10b",
   "metadata": {},
   "outputs": [
    {
     "name": "stdout",
     "output_type": "stream",
     "text": [
      "\n",
      "--- Step 1: Percentage of Services Offered ---\n",
      "Total number of restaurants: 9551\n",
      "Number of restaurants offering table booking: 1158 (12.12%)\n",
      "Number of restaurants offering online delivery: 2451 (25.66%)\n",
      "\n",
      "--- Step 2: Average Ratings Comparison ---\n",
      "Average rating of restaurants with table booking: 3.44\n",
      "Number of restaurants with table booking: 1158\n",
      "Average rating of restaurants without table booking: 2.56\n",
      "Number of restaurants without table booking: 8393\n",
      "\n",
      "--- Step 3: Online Delivery Availability by Price Range ---\n",
      "Cheap (Price Range 1): 15.77% of 4444 restaurants offer online delivery\n",
      "Moderate (Price Range 2): 41.31% of 3113 restaurants offer online delivery\n",
      "Expensive (Price Range 3): 29.19% of 1408 restaurants offer online delivery\n",
      "Luxury (Price Range 4): 9.04% of 586 restaurants offer online delivery\n",
      "\n",
      "--- Additional Insight: Count of Restaurants by Price Range ---\n",
      "Cheap (Price Range 1): 4444 restaurants\n",
      "Moderate (Price Range 2): 3113 restaurants\n",
      "Expensive (Price Range 3): 1408 restaurants\n",
      "Luxury (Price Range 4): 586 restaurants\n"
     ]
    }
   ],
   "source": [
    "import pandas as pd\n",
    "\n",
    "# Load the dataset\n",
    "file_path = r'C:\\Users\\91702\\Dataset.csv'\n",
    "data = pd.read_csv(file_path)\n",
    "\n",
    "# Step 1: Calculate the percentage of restaurants offering table booking and online delivery\n",
    "\n",
    "# Total number of restaurants\n",
    "total_restaurants = len(data)\n",
    "\n",
    "# Number of restaurants offering table booking and online delivery\n",
    "table_booking_count = data['Has Table booking'].str.lower().eq('yes').sum()\n",
    "online_delivery_count = data['Has Online delivery'].str.lower().eq('yes').sum()\n",
    "\n",
    "# Calculate the percentages\n",
    "table_booking_percentage = (table_booking_count / total_restaurants) * 100\n",
    "online_delivery_percentage = (online_delivery_count / total_restaurants) * 100\n",
    "\n",
    "print(f\"\\n--- Step 1: Percentage of Services Offered ---\")\n",
    "print(f\"Total number of restaurants: {total_restaurants}\")\n",
    "print(f\"Number of restaurants offering table booking: {table_booking_count} ({table_booking_percentage:.2f}%)\")\n",
    "print(f\"Number of restaurants offering online delivery: {online_delivery_count} ({online_delivery_percentage:.2f}%)\")\n",
    "\n",
    "# Step 2: Compare average ratings of restaurants with and without table booking\n",
    "\n",
    "# Filter data based on table booking availability\n",
    "with_table_booking = data[data['Has Table booking'].str.lower() == 'yes']\n",
    "without_table_booking = data[data['Has Table booking'].str.lower() == 'no']\n",
    "\n",
    "# Calculate the average ratings\n",
    "avg_rating_with_table_booking = with_table_booking['Aggregate rating'].mean()\n",
    "avg_rating_without_table_booking = without_table_booking['Aggregate rating'].mean()\n",
    "\n",
    "print(f\"\\n--- Step 2: Average Ratings Comparison ---\")\n",
    "print(f\"Average rating of restaurants with table booking: {avg_rating_with_table_booking:.2f}\")\n",
    "print(f\"Number of restaurants with table booking: {len(with_table_booking)}\")\n",
    "print(f\"Average rating of restaurants without table booking: {avg_rating_without_table_booking:.2f}\")\n",
    "print(f\"Number of restaurants without table booking: {len(without_table_booking)}\")\n",
    "\n",
    "# Step 3: Analyze the availability of online delivery among restaurants with different price ranges\n",
    "\n",
    "# Define a dictionary to map price ranges to price descriptions\n",
    "price_range_map = {\n",
    "    1: 'Cheap',\n",
    "    2: 'Moderate',\n",
    "    3: 'Expensive',\n",
    "    4: 'Luxury'\n",
    "}\n",
    "\n",
    "# Group by price range and calculate the percentage of restaurants offering online delivery\n",
    "price_range_online_delivery = data.groupby('Price range')['Has Online delivery'].apply(\n",
    "    lambda x: (x.str.lower() == 'yes').mean() * 100)\n",
    "\n",
    "print(f\"\\n--- Step 3: Online Delivery Availability by Price Range ---\")\n",
    "for price_range, percentage in price_range_online_delivery.items():\n",
    "    count_in_range = len(data[data['Price range'] == price_range])\n",
    "    price_description = price_range_map.get(price_range, f\"Range {price_range}\")\n",
    "    print(f\"{price_description} (Price Range {price_range}): {percentage:.2f}% of {count_in_range} restaurants offer online delivery\")\n",
    "\n",
    "# Additional Insight: Count of Restaurants in Each Price Range\n",
    "print(f\"\\n--- Additional Insight: Count of Restaurants by Price Range ---\")\n",
    "price_range_counts = data['Price range'].value_counts().sort_index()\n",
    "for price_range, count in price_range_counts.items():\n",
    "    price_description = price_range_map.get(price_range, f\"Range {price_range}\")\n",
    "    print(f\"{price_description} (Price Range {price_range}): {count} restaurants\")\n"
   ]
  },
  {
   "cell_type": "code",
   "execution_count": null,
   "id": "330f8e0a",
   "metadata": {},
   "outputs": [],
   "source": []
  }
 ],
 "metadata": {
  "kernelspec": {
   "display_name": "Python 3 (ipykernel)",
   "language": "python",
   "name": "python3"
  },
  "language_info": {
   "codemirror_mode": {
    "name": "ipython",
    "version": 3
   },
   "file_extension": ".py",
   "mimetype": "text/x-python",
   "name": "python",
   "nbconvert_exporter": "python",
   "pygments_lexer": "ipython3",
   "version": "3.9.12"
  }
 },
 "nbformat": 4,
 "nbformat_minor": 5
}
